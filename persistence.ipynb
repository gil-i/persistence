{
 "cells": [
  {
   "cell_type": "code",
   "execution_count": 4,
   "metadata": {},
   "outputs": [],
   "source": [
    "import numpy as np"
   ]
  },
  {
   "cell_type": "code",
   "execution_count": 12,
   "metadata": {},
   "outputs": [
    {
     "name": "stdout",
     "output_type": "stream",
     "text": [
      "Simplex Tree with (4, 6, 4, 1) (0, 1, 2, 3)-simplices\n",
      "[[1], [2], [4], [5], [1, 2], [1, 4], [1, 5], [2, 4], [2, 5], [4, 5], [1, 2, 4], [1, 2, 5], [1, 4, 5], [2, 4, 5], [1, 2, 4, 5]]\n",
      "[[1], [1, 2], [1, 4], [1, 5], [2], [2, 4], [2, 5], [4], [4, 5], [5]]\n",
      "1 (h = 3): .( 2 4 5 )..( 4 5 5 )...( 5 )\n",
      "2 (h = 2): .( 4 5 )..( 5 )\n",
      "4 (h = 1): .( 5 )\n",
      "5 (h = 0): \n",
      "(last=2, depth=2): { 1 2 } \n",
      "(last=4, depth=2): { 1 4 } { 2 4 } \n",
      "(last=5, depth=2): { 1 5 } { 2 5 } { 4 5 } \n",
      "(last=4, depth=3): { 1 2 4 } \n",
      "(last=5, depth=3): { 1 2 5 } { 1 4 5 } { 2 4 5 } \n",
      "(last=5, depth=4): { 1 2 4 5 } \n"
     ]
    }
   ],
   "source": [
    "## The SimplexTree class provides light wrapper around the extension module\n",
    "from simplextree import SimplexTree \n",
    "st = SimplexTree([[0,1,2], [0,1], [4,5]]) \n",
    "print(st) \n",
    "# Simplex Tree with (5, 4, 1) (0, 1, 2)-simplices\n",
    "\n",
    "## Batch insertion, removal, and membership queries are supported\n",
    "st.insert([[1,4], [1,5], [6]])\n",
    "# Simplex Tree with (6, 6, 1) (0, 1, 2)-simplices \n",
    "\n",
    "st.remove([[6]])\n",
    "# Simplex Tree with (5, 6, 1) (0, 1, 2)-simplices\n",
    "\n",
    "st.find([[6], [0,1]])\n",
    "# array([False,  True])\n",
    "\n",
    "## Collections of simplices are returned as simple lists-of-lists\n",
    "print(st.simplices())\n",
    "# [[0],[1],[2],[4],[5], [0,1],[0,2],[1,2],[1,4],[1,5],[4,5],[0,1,2]])\n",
    "\n",
    "print(st.skeleton(1)) \n",
    "# [[0],[1],[2],[4],[5], [0,1],[0,2],[1,2],[1,4],[1,5],[4,5]])\n",
    "\n",
    "## Familiar Pythonic collection semantics are supported, including contains and iteration\n",
    "[0,1,2] in st\n",
    "# True \n",
    "\n",
    "[len(simplex) for simplex in st]\n",
    "# [1, 1, 1, 1, 1, 2, 2, 2, 2, 2, 2, 3]\n",
    "\n",
    "## Various subsets of the complex can be enumerated\n",
    "st.cofaces([1])\n",
    "# [[1], [0,1], [1,2], [1,4], [1,5], [0,1,2], [1,4,5]]\n",
    "\n",
    "st.maximal()\n",
    "# [[0, 1, 2], [1, 4], [1, 5], [4, 5]]\n",
    "\n",
    "## Basic properties are also available as attributes \n",
    "st.connected_components \n",
    "# [1,1,1,1,1]\n",
    "\n",
    "st.vertices\n",
    "# [0,1,2,4,5]\n",
    "\n",
    "st.n_simplices, st.dimension\n",
    "# [5, 6, 1], 2\n",
    "\n",
    "## Interoperability with numpy is provided whenever possible\n",
    "all(np.all(st.triangles == np.array(st.simplices(p=2)), axis=0))\n",
    "# True \n",
    "\n",
    "## Other complex-wide operations are supported, like k-expansions \n",
    "st.insert([[1,4]]) \n",
    "st.expand(2)       \n",
    "# Simplex Tree with (6, 6, 2) (0, 1, 2)-simplices\n",
    "\n",
    "## The trie-structure can also be inspected on the python side \n",
    "st.print_tree()\n",
    "# 0 (h = 2): .( 1 2 )..( 2 )\n",
    "# 1 (h = 1): .( 2 4 5 )\n",
    "# 2 (h = 0): \n",
    "# 4 (h = 1): .( 5 )\n",
    "# 5 (h = 0): \n",
    "\n",
    "st.print_cousins()\n",
    "# (last=1, depth=2): { 0 1 } \n",
    "# (last=2, depth=2): { 0 2 } { 1 2 } \n",
    "# (last=4, depth=2): { 1 4 } \n",
    "# (last=5, depth=2): { 4 5 } { 1 5 } \n",
    "# (last=2, depth=3): { 0 1 2 } "
   ]
  },
  {
   "cell_type": "code",
   "execution_count": 18,
   "metadata": {},
   "outputs": [
    {
     "data": {
      "text/plain": [
       "[[1], [2], [4], [5]]"
      ]
     },
     "execution_count": 18,
     "metadata": {},
     "output_type": "execute_result"
    }
   ],
   "source": [
    "vertices = [v for v in st if len(v) == 1 ]"
   ]
  },
  {
   "cell_type": "code",
   "execution_count": 19,
   "metadata": {},
   "outputs": [
    {
     "data": {
      "text/plain": [
       "3"
      ]
     },
     "execution_count": 19,
     "metadata": {},
     "output_type": "execute_result"
    }
   ],
   "source": [
    "st.dimension"
   ]
  },
  {
   "cell_type": "code",
   "execution_count": 20,
   "metadata": {},
   "outputs": [
    {
     "data": {
      "text/plain": [
       "[1, 2, 4, 5]"
      ]
     },
     "execution_count": 20,
     "metadata": {},
     "output_type": "execute_result"
    }
   ],
   "source": [
    "st.vertices "
   ]
  },
  {
   "cell_type": "code",
   "execution_count": 21,
   "metadata": {},
   "outputs": [],
   "source": [
    "# TODO: create a way to implement filtrations with a given by a function f:V->R.\n",
    "# TODO: Given the filtration compute the persistent pairs.\n"
   ]
  },
  {
   "cell_type": "code",
   "execution_count": 22,
   "metadata": {},
   "outputs": [],
   "source": [
    "def get_lower_one_index(column, index=-1):\n",
    "    low=-1\n",
    "    # when index is positive we know that the lower index is above that \n",
    "    if (index==-1):\n",
    "        n = len(column)\n",
    "    elif(index>=0):\n",
    "        n = index\n",
    "    else:\n",
    "        raise Exception(\"Index bound must be positive\")\n",
    "        \n",
    "    for i in range(n):\n",
    "        if column[i]==1:\n",
    "            j=i\n",
    "    return low\n",
    "\n",
    "\n",
    "## Naive computation of persistent pairs given the boundary matrix\n",
    "def compute_persistence(matrix):\n",
    "    n,m = matrix.shape\n",
    "    last_ones = {}\n",
    "\n",
    "    for j in range(m):\n",
    "        low = get_lower_one_index(matrix[:,j],index)\n",
    "        if low != -1:\n",
    "            while(low in last_ones.keys()):\n",
    "                matrix[:,j] =  (matrix[:,j]+matrix[:,last_ones[low]])%2\n",
    "                low = get_lower_one_index(matrix[:,j],low)\n",
    "\n",
    "    return last_ones    \n",
    "                \n",
    "    "
   ]
  },
  {
   "cell_type": "code",
   "execution_count": null,
   "metadata": {},
   "outputs": [],
   "source": [
    "m1 = np.array([[1,0,0,1],[0,0,1,1],[]])"
   ]
  }
 ],
 "metadata": {
  "kernelspec": {
   "display_name": ".venv",
   "language": "python",
   "name": "python3"
  },
  "language_info": {
   "codemirror_mode": {
    "name": "ipython",
    "version": 3
   },
   "file_extension": ".py",
   "mimetype": "text/x-python",
   "name": "python",
   "nbconvert_exporter": "python",
   "pygments_lexer": "ipython3",
   "version": "3.9.7"
  }
 },
 "nbformat": 4,
 "nbformat_minor": 2
}
